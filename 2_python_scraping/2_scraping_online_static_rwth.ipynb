{
 "cells": [
  {
   "cell_type": "markdown",
   "metadata": {},
   "source": [
    "## Fetching a static remote web page.\n",
    "\n",
    "_Note: adapted from Ivan Smirnov's exercises_\n"
   ]
  },
  {
   "cell_type": "code",
   "execution_count": null,
   "metadata": {},
   "outputs": [],
   "source": [
    "from bs4 import BeautifulSoup\n",
    "import urllib.request\n",
    "url = \"https://www.rwth-aachen.de/cms/root/Studium/Vor-dem-Studium/Studiengaenge/~yev/Liste-Aktuelle-Studiengaenge/lidx/1/?page=1&aaaaaaaaaaaaaum=aaaaaaaaaaaaxqh&showall=1\"\n",
    "page = urllib.request.urlopen(url).read()\n",
    "soup = BeautifulSoup(page, 'html.parser')"
   ]
  },
  {
   "cell_type": "code",
   "execution_count": null,
   "metadata": {},
   "outputs": [],
   "source": [
    "soup"
   ]
  },
  {
   "cell_type": "code",
   "execution_count": null,
   "metadata": {},
   "outputs": [],
   "source": [
    "soup.select('.listing')"
   ]
  },
  {
   "cell_type": "code",
   "execution_count": null,
   "metadata": {},
   "outputs": [],
   "source": [
    "soup.select('.location a')"
   ]
  },
  {
   "cell_type": "code",
   "execution_count": null,
   "metadata": {},
   "outputs": [],
   "source": [
    "elements = soup.select('.listing a')\n",
    "[x.text for x in elements]"
   ]
  },
  {
   "cell_type": "code",
   "execution_count": null,
   "metadata": {},
   "outputs": [],
   "source": [
    "list(set([x.text for x in elements[2:]]))"
   ]
  },
  {
   "cell_type": "markdown",
   "metadata": {},
   "source": [
    "### Use a fetched link for further exploration"
   ]
  },
  {
   "cell_type": "code",
   "execution_count": 9,
   "metadata": {},
   "outputs": [
    {
     "name": "stdout",
     "output_type": "stream",
     "text": [
      "https://rwth-aachen.de/cms/root/studium/Vor-dem-Studium/Studiengaenge/Liste-Aktuelle-Studiengaenge/Studiengangbeschreibung/Angewandte-Geographie-B-Sc/~blkc/Angewandte-Geographie-B-Sc-/lidx/1/\n"
     ]
    }
   ],
   "source": [
    "url2 = 'https://rwth-aachen.de' + elements[2]['href']\n",
    "print(url2)\n",
    "page = urllib.request.urlopen(url2).read()\n",
    "soup = BeautifulSoup(page, 'html.parser')\n",
    "tbl = soup.select('table')"
   ]
  },
  {
   "cell_type": "code",
   "execution_count": 10,
   "metadata": {},
   "outputs": [
    {
     "data": {
      "text/plain": [
       "1"
      ]
     },
     "execution_count": 10,
     "metadata": {},
     "output_type": "execute_result"
    }
   ],
   "source": [
    "len(tbl)"
   ]
  },
  {
   "cell_type": "code",
   "execution_count": 11,
   "metadata": {},
   "outputs": [
    {
     "name": "stdout",
     "output_type": "stream",
     "text": [
      "<table style=\"width: 100%;\">\n",
      " <thead>\n",
      "  <tr>\n",
      "   <th style=\"width: 50px;\">\n",
      "    Semester\n",
      "   </th>\n",
      "   <th colspan=\"3\" rowspan=\"1\" style=\"width: 180px;\">\n",
      "    Geographic Modules\n",
      "   </th>\n",
      "   <th style=\"width: 193px;\">\n",
      "   </th>\n",
      "  </tr>\n",
      " </thead>\n",
      " <tbody>\n",
      "  <tr>\n",
      "   <td style=\"width: 50px;\">\n",
      "    1\n",
      "   </td>\n",
      "   <td style=\"width: 180px;\">\n",
      "    <p>\n",
      "     <strong>\n",
      "      Physcal Geography\n",
      "     </strong>\n",
      "     <br/>\n",
      "     Geomorphology\n",
      "     <br/>\n",
      "     Climatology\n",
      "    </p>\n",
      "   </td>\n",
      "   <td style=\"width: 220px;\">\n",
      "    <p>\n",
      "     <strong>\n",
      "      Economic Geography\n",
      "     </strong>\n",
      "    </p>\n",
      "    Industrial Geography\n",
      "   </td>\n",
      "   <td style=\"width: 193px;\">\n",
      "    <p>\n",
      "     <strong>\n",
      "      Methods\n",
      "     </strong>\n",
      "     <br/>\n",
      "     Seminar and Site Internships, Geostatistics, Cartography\n",
      "    </p>\n",
      "   </td>\n",
      "   <td style=\"width: 193px;\">\n",
      "   </td>\n",
      "  </tr>\n",
      "  <tr>\n",
      "   <td style=\"width: 50px;\">\n",
      "    2\n",
      "   </td>\n",
      "   <td style=\"width: 180px;\">\n",
      "    <p>\n",
      "     <strong>\n",
      "      Physical Geography\n",
      "     </strong>\n",
      "     <br/>\n",
      "     Soil Geography, Biogeography, Basic Seminar, and Site Internship\n",
      "    </p>\n",
      "   </td>\n",
      "   <td style=\"width: 220px;\">\n",
      "    <p>\n",
      "     <strong>\n",
      "      Economic Geography\n",
      "     </strong>\n",
      "     <br/>\n",
      "     Service Geography, Agricultural Geography\n",
      "    </p>\n",
      "   </td>\n",
      "   <td colspan=\"1\" style=\"width: 193px;\">\n",
      "    <p>\n",
      "     <strong>\n",
      "      Methods\n",
      "     </strong>\n",
      "     <br/>\n",
      "     Visualization, Geostatistics (SPSS)\n",
      "    </p>\n",
      "   </td>\n",
      "   <td style=\"width: 193px;\">\n",
      "   </td>\n",
      "  </tr>\n",
      "  <tr>\n",
      "   <td style=\"width: 50px;\">\n",
      "    3\n",
      "   </td>\n",
      "   <td colspan=\"1\" rowspan=\"2\" style=\"width: 180px;\">\n",
      "    <p>\n",
      "     <strong>\n",
      "      Human Geography\n",
      "     </strong>\n",
      "     <br/>\n",
      "     Urban and Population Geography, Spatial Planning, Basic Seminar and Site Internship,\n",
      "    </p>\n",
      "   </td>\n",
      "   <td colspan=\"1\" style=\"width: 220px;\">\n",
      "    <p>\n",
      "     <strong>\n",
      "      Project Module\n",
      "     </strong>\n",
      "     <br/>\n",
      "     Empirical Methods\n",
      "    </p>\n",
      "   </td>\n",
      "   <td colspan=\"1\" style=\"width: 193px;\">\n",
      "    <p>\n",
      "     <strong>\n",
      "      Methods\n",
      "     </strong>\n",
      "     <br/>\n",
      "     Geographic Information Systems (GIS)\n",
      "    </p>\n",
      "   </td>\n",
      "   <td colspan=\"1\" rowspan=\"3\" style=\"width: 193px;\">\n",
      "    <p>\n",
      "     <strong>\n",
      "      Minor and elective modules\n",
      "     </strong>\n",
      "     (from 3rd semester)\n",
      "    </p>\n",
      "   </td>\n",
      "  </tr>\n",
      "  <tr>\n",
      "   <td style=\"width: 50px;\">\n",
      "    4\n",
      "   </td>\n",
      "   <td colspan=\"1\" style=\"width: 220px;\">\n",
      "    <p>\n",
      "     <strong>\n",
      "      Project Module\n",
      "     </strong>\n",
      "     <br/>\n",
      "     Project Study\n",
      "    </p>\n",
      "   </td>\n",
      "   <td style=\"width: 193px;\">\n",
      "    <p>\n",
      "     <strong>\n",
      "      Regional Geography\n",
      "     </strong>\n",
      "     <br/>\n",
      "     Regional Seminar, Regional Internship\n",
      "    </p>\n",
      "   </td>\n",
      "  </tr>\n",
      "  <tr>\n",
      "   <td style=\"width: 50px;\">\n",
      "    5 and 6\n",
      "   </td>\n",
      "   <td colspan=\"3\" rowspan=\"1\" style=\"width: 635px;\">\n",
      "    <strong>\n",
      "     Specialization\n",
      "    </strong>\n",
      "    <br/>\n",
      "    Module 1 and 2 (by choice), Bachelor's thesis\n",
      "   </td>\n",
      "  </tr>\n",
      " </tbody>\n",
      "</table>\n",
      "\n"
     ]
    }
   ],
   "source": [
    "print(tbl[0].prettify())"
   ]
  },
  {
   "cell_type": "markdown",
   "metadata": {},
   "source": [
    "### Let's follow all links.\n",
    "\n",
    "Let's fetch URLs based on the content of the page.\n",
    "\n",
    "_Note: it might take a few minutes._"
   ]
  },
  {
   "cell_type": "code",
   "execution_count": null,
   "metadata": {},
   "outputs": [],
   "source": [
    "result = {}\n",
    "for program in elements[2:]:\n",
    "    # Extract url.\n",
    "    url = program['href']\n",
    "    # Get page of study program.\n",
    "    page = urllib.request.urlopen('https://rwth-aachen.de' + url).read()\n",
    "    # Parse it.\n",
    "    soup = BeautifulSoup(page, 'html.parser')\n",
    "    # Extract program name and description.\n",
    "    descr = soup.select('.text > p')\n",
    "    program_name = program.text\n",
    "    # Description is a collection of tags that we want to join.\n",
    "    result[program_name] = ' '.join([x.text for x in descr])\n",
    "    # Just print a rudimentary progress bar.\n",
    "    print('.', end = '')"
   ]
  },
  {
   "cell_type": "code",
   "execution_count": null,
   "metadata": {},
   "outputs": [
    {
     "ename": "NameError",
     "evalue": "name 'descr' is not defined",
     "output_type": "error",
     "traceback": [
      "\u001b[1;31m---------------------------------------------------------------------------\u001b[0m\n",
      "\u001b[1;31mNameError\u001b[0m                                 Traceback (most recent call last)\n",
      "\u001b[1;32m~\\AppData\\Local\\Temp/ipykernel_23448/3406321000.py\u001b[0m in \u001b[0;36m<module>\u001b[1;34m\u001b[0m\n",
      "\u001b[0;32m      1\u001b[0m \u001b[1;31m# Last description.\u001b[0m\u001b[1;33m\u001b[0m\u001b[1;33m\u001b[0m\u001b[1;33m\u001b[0m\u001b[0m\n",
      "\u001b[1;32m----> 2\u001b[1;33m \u001b[0mdescr\u001b[0m\u001b[1;33m\u001b[0m\u001b[1;33m\u001b[0m\u001b[0m\n",
      "\u001b[0m\n",
      "\u001b[1;31mNameError\u001b[0m: name 'descr' is not defined"
     ]
    }
   ],
   "source": [
    "# Last description.\n",
    "descr"
   ]
  },
  {
   "cell_type": "code",
   "execution_count": null,
   "metadata": {},
   "outputs": [],
   "source": [
    "# Print all results.\n",
    "for x in result:\n",
    "    print(x)\n",
    "    print(result[x])\n",
    "    print('----')\n",
    "    print()"
   ]
  }
 ],
 "metadata": {
  "kernelspec": {
   "display_name": "Python 3.8.8 ('base')",
   "language": "python",
   "name": "python3"
  },
  "language_info": {
   "codemirror_mode": {
    "name": "ipython",
    "version": 3
   },
   "file_extension": ".py",
   "mimetype": "text/x-python",
   "name": "python",
   "nbconvert_exporter": "python",
   "pygments_lexer": "ipython3",
   "version": "3.8.8"
  },
  "vscode": {
   "interpreter": {
    "hash": "b4e71ea8cb9e61ed62591a328154514d65a18ad7df9f3498c1c405eea9e89e2b"
   }
  }
 },
 "nbformat": 4,
 "nbformat_minor": 4
}
